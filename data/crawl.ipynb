{
 "cells": [
  {
   "cell_type": "code",
   "execution_count": 1,
   "metadata": {},
   "outputs": [],
   "source": [
    "import requests\n",
    "from bs4 import BeautifulSoup\n",
    "import pandas as pd\n",
    "import numpy as np\n",
    "import datetime"
   ]
  },
  {
   "cell_type": "code",
   "execution_count": 2,
   "metadata": {},
   "outputs": [],
   "source": [
    "url = \"https://www.worldometers.info/coronavirus/#nav-yesterday2\""
   ]
  },
  {
   "cell_type": "code",
   "execution_count": 3,
   "metadata": {},
   "outputs": [],
   "source": [
    "def parse(url):    \n",
    "    html_text = requests.get(url).text\n",
    "    return BeautifulSoup(html_text, 'html.parser')"
   ]
  },
  {
   "cell_type": "code",
   "execution_count": 4,
   "metadata": {},
   "outputs": [],
   "source": [
    "def get_columns(parser):\n",
    "    # xóa các khoảng cách thừa\n",
    "    columns = parser.find('thead').text.strip().replace('\\n\\n','\\n')\n",
    "    # thay kí tự unikey\n",
    "    columns = columns.replace('\\xa0', ' ')\n",
    "    # xóa kí tự \\n thừa\n",
    "    columns = columns.replace('/\\n','/').replace('\\nContinent','')\n",
    "    #\n",
    "    columns = columns.replace('ppl', 'ppl\\n')\n",
    "    \n",
    "    \n",
    "    return columns.split('\\n')[0:-1]"
   ]
  },
  {
   "cell_type": "code",
   "execution_count": 5,
   "metadata": {},
   "outputs": [],
   "source": [
    "def raw_data(parser,yesterday= True, two_day_ago= False):\n",
    "    if yesterday:\n",
    "        parser1 = parser.find('table', {'id':'main_table_countries_yesterday'})\n",
    "        raw1 = parser1.find_all('tr')[9:-8]\n",
    "    if two_day_ago:\n",
    "        parser2 = parser.find('table', {'id':'main_table_countries_yesterday2'})\n",
    "        raw2= parser2.find_all('tr')[9:-8]\n",
    "    if yesterday and two_day_ago:\n",
    "        return (raw1,raw2)\n",
    "    else:\n",
    "        if yesterday:\n",
    "            return raw1\n",
    "        else:\n",
    "            return raw2"
   ]
  },
  {
   "cell_type": "code",
   "execution_count": 6,
   "metadata": {},
   "outputs": [],
   "source": [
    "def get_content(raw):\n",
    "    start = False\n",
    "    s = \"\"\n",
    "    for ch in raw:\n",
    "        if ch == '>':\n",
    "            start = True\n",
    "        elif ch == '<':\n",
    "            if start == True: \n",
    "                start = False\n",
    "                if s[-1] == '\\n':\n",
    "                    s = s[0:-1]\n",
    "                else:\n",
    "                    s = s + '\\t'\n",
    "        else:\n",
    "            if start == True:\n",
    "                if ch != ',':\n",
    "                    s = s + ch\n",
    "    index = [1,3,17,19,21,23]\n",
    "    l1 = np.array(s.split('\\t'))\n",
    "    if len(l1) == 24:\n",
    "        index = [1,3,17,19,21,23]\n",
    "    else:\n",
    "        index = [1,3,16,18,19,21,23,25]\n",
    "    return list(np.delete(l1,index)) "
   ]
  },
  {
   "cell_type": "code",
   "execution_count": 7,
   "metadata": {},
   "outputs": [],
   "source": [
    "def save(df,filename):\n",
    "    df.to_csv(filename)"
   ]
  },
  {
   "cell_type": "code",
   "execution_count": 14,
   "metadata": {},
   "outputs": [],
   "source": [
    "def get_data(raw,columns):\n",
    "    data= [get_content(str(i)) for i in raw]\n",
    "    df = pd.DataFrame(data,columns= columns)\n",
    "    df.set_index('#',inplace= True)\n",
    "    num_cols = columns[2:]\n",
    "    df[num_cols] = df[num_cols].astype('int64', errors='ignore')\n",
    "    return df"
   ]
  },
  {
   "cell_type": "code",
   "execution_count": 15,
   "metadata": {},
   "outputs": [],
   "source": [
    "def store_data(raw, columns, day):\n",
    "    today = datetime.datetime.now()\n",
    "    d= datetime.timedelta(days = day)\n",
    "    filename = today - d\n",
    "    day = today - d\n",
    "    filename='Worldometer_' + day.strftime('%m_%d')[1:] + '.csv'\n",
    "    df= get_data(raw,columns)\n",
    "    save(df,filename)"
   ]
  },
  {
   "cell_type": "code",
   "execution_count": 10,
   "metadata": {},
   "outputs": [],
   "source": [
    "parser = parse(url)"
   ]
  },
  {
   "cell_type": "code",
   "execution_count": 16,
   "metadata": {},
   "outputs": [],
   "source": [
    "columns = get_columns(parser)"
   ]
  },
  {
   "cell_type": "code",
   "execution_count": 17,
   "metadata": {},
   "outputs": [],
   "source": [
    "#raw1, raw2 = raw_data(parser,True,True)"
   ]
  },
  {
   "cell_type": "code",
   "execution_count": 18,
   "metadata": {},
   "outputs": [],
   "source": [
    "#store_data(raw1, columns,1)\n",
    "#store_data(raw2, columns,2)"
   ]
  },
  {
   "cell_type": "code",
   "execution_count": null,
   "metadata": {},
   "outputs": [],
   "source": []
  }
 ],
 "metadata": {
  "kernelspec": {
   "display_name": "Python 3",
   "language": "python",
   "name": "python3"
  },
  "language_info": {
   "codemirror_mode": {
    "name": "ipython",
    "version": 3
   },
   "file_extension": ".py",
   "mimetype": "text/x-python",
   "name": "python",
   "nbconvert_exporter": "python",
   "pygments_lexer": "ipython3",
   "version": "3.8.5"
  }
 },
 "nbformat": 4,
 "nbformat_minor": 4
}

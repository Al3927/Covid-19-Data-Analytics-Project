{
 "cells": [
  {
   "cell_type": "code",
   "execution_count": null,
   "metadata": {},
   "outputs": [],
   "source": [
    "import pandas as pd\n",
    "import numpy as np\n",
    "import matplotlib.pyplot as plt \n",
    "from  matplotlib.ticker import PercentFormatter\n",
    "import seaborn as sns\n",
    "from IPython.display import Image, display"
   ]
  },
  {
   "cell_type": "code",
   "execution_count": null,
   "metadata": {},
   "outputs": [],
   "source": [
    "#Set Option\n",
    "pd.set_option('max_colwidth', None)\n",
    "pd.set_option('display.max_rows', None)\n",
    "pd.set_option('display.max_columns', None)\n",
    "pd.set_option('display.width', None)\n",
    "sns.set_theme()"
   ]
  },
  {
   "cell_type": "code",
   "execution_count": null,
   "metadata": {},
   "outputs": [],
   "source": [
    "df = pd.read_csv('data/Worldometer_4_21.csv', index_col = 0)"
   ]
  },
  {
   "cell_type": "code",
   "execution_count": null,
   "metadata": {},
   "outputs": [],
   "source": [
    "df.head(3)"
   ]
  },
  {
   "cell_type": "markdown",
   "metadata": {},
   "source": [
    "Xóa 3 cột cuối cột "
   ]
  },
  {
   "cell_type": "code",
   "execution_count": null,
   "metadata": {},
   "outputs": [],
   "source": [
    "df = df.drop(columns=['1 Caseevery X ppl','1 Deathevery X ppl','1 Testevery X ppl'])"
   ]
  },
  {
   "cell_type": "markdown",
   "metadata": {},
   "source": [
    "Xóa 2 quốc gia có dân số bị trống"
   ]
  },
  {
   "cell_type": "code",
   "execution_count": null,
   "metadata": {},
   "outputs": [],
   "source": [
    "df[df['Population'] == ' ']"
   ]
  },
  {
   "cell_type": "code",
   "execution_count": null,
   "metadata": {},
   "outputs": [],
   "source": [
    "df[df['TotalDeaths'] == ' '] = df[df['TotalDeaths'] == ' '].replace(' ',0)"
   ]
  },
  {
   "cell_type": "code",
   "execution_count": null,
   "metadata": {},
   "outputs": [],
   "source": [
    "df = df[df['Population'] != ' ']\n",
    "df"
   ]
  },
  {
   "cell_type": "code",
   "execution_count": null,
   "metadata": {},
   "outputs": [],
   "source": [
    "df[['TotalDeaths','Population']] = df[['TotalDeaths','Population']].astype('int')"
   ]
  },
  {
   "cell_type": "code",
   "execution_count": null,
   "metadata": {},
   "outputs": [],
   "source": [
    "df.select_dtypes(exclude='object')"
   ]
  },
  {
   "cell_type": "code",
   "execution_count": null,
   "metadata": {},
   "outputs": [],
   "source": [
    "def missing_ratio(df):\n",
    "    return (df.isna().mean() * 100).round(1)\n",
    "def lower_quartile(df):\n",
    "    return df.quantile(0.25)\n",
    "def median(df):\n",
    "    return df.quantile(0.5)\n",
    "def upper_quartile(df):\n",
    "    return df.quantile(0.75)"
   ]
  },
  {
   "cell_type": "code",
   "execution_count": null,
   "metadata": {},
   "outputs": [],
   "source": [
    "numeric_df = df.select_dtypes(exclude='object')\n",
    "numeric_df.agg([missing_ratio, min, lower_quartile, median, upper_quartile, max]).round(1)"
   ]
  },
  {
   "cell_type": "code",
   "execution_count": null,
   "metadata": {},
   "outputs": [],
   "source": [
    "df.fillna(0,inplace=True)\n",
    "df"
   ]
  },
  {
   "cell_type": "code",
   "execution_count": null,
   "metadata": {},
   "outputs": [],
   "source": [
    "cols = ['TotalCases','NewCases', 'TotalDeaths', 'NewDeaths','TotalRecovered']"
   ]
  },
  {
   "cell_type": "code",
   "execution_count": null,
   "metadata": {},
   "outputs": [],
   "source": [
    "sns.pairplot(df[cols], size=2.0)"
   ]
  },
  {
   "cell_type": "code",
   "execution_count": null,
   "metadata": {},
   "outputs": [],
   "source": [
    "df.info() "
   ]
  },
  {
   "cell_type": "code",
   "execution_count": null,
   "metadata": {},
   "outputs": [],
   "source": [
    "df.select_dtypes(exclude='object').iloc[:,range(0,7)].values.shape"
   ]
  },
  {
   "cell_type": "code",
   "execution_count": null,
   "metadata": {},
   "outputs": [],
   "source": [
    "# cols = ['Age', 'Tonnage', 'passengers', 'length', 'cabins','passenger_density','crew']\n",
    "from sklearn.preprocessing import StandardScaler\n",
    "stdsc = StandardScaler()\n",
    "ttt = df.select_dtypes(exclude='object').copy()\n",
    "ttt = ttt.fillna(0).values\n",
    "X_std = stdsc.fit_transform(ttt)"
   ]
  },
  {
   "cell_type": "code",
   "execution_count": null,
   "metadata": {},
   "outputs": [],
   "source": [
    "cov_mat =np.cov(X_std.T)\n",
    "plt.figure(figsize=(10,10))\n",
    "sns.set(font_scale=1.5)\n",
    "hm = sns.heatmap(cov_mat,\n",
    "                 cbar=True,\n",
    "                 annot=True,\n",
    "                 square=True,\n",
    "                 fmt='.2f',\n",
    "                 annot_kws={'size': 12},\n",
    "                 yticklabels=df.select_dtypes(exclude='object').columns,\n",
    "                 xticklabels=df.select_dtypes(exclude='object').columns)\n",
    "plt.title('Covariance matrix showing correlation coefficients')\n",
    "plt.tight_layout()\n",
    "plt.show()"
   ]
  },
  {
   "cell_type": "markdown",
   "metadata": {},
   "source": [
    "- Choose 3 features that correlates strongly with each other.\n",
    "- Choose 6 features and cross visualization \n"
   ]
  },
  {
   "cell_type": "markdown",
   "metadata": {},
   "source": [
    "- BAr chart\n",
    "- Grouped BAr Chart\n",
    "- Scatter \n",
    "- Heat map\n",
    "- Area\n",
    "- Line\n",
    "- Stack Bar"
   ]
  },
  {
   "cell_type": "markdown",
   "metadata": {},
   "source": [
    "**\"Tot Cases/1M pop\"Deaths/1M pop**\n",
    "\n",
    "Chọn biểu đồ histogram để xem sự phân phối của \"Tot Cases/1M pop\""
   ]
  },
  {
   "cell_type": "code",
   "execution_count": null,
   "metadata": {},
   "outputs": [],
   "source": [
    "plt.hist(df['Tot Cases/1M pop'], bins = 3)\n",
    "plt.xlabel('Tot Cases/1M pop')\n",
    "plt.ylabel('Number of country')\n",
    "plt.title('Deaths/1M pop')\n",
    "plt.show()"
   ]
  },
  {
   "cell_type": "markdown",
   "metadata": {},
   "source": [
    "Nhận xét về \"Tot Cases/1M pop\":\n",
    "- Đa phần các quốc gia nằm trong khoảng từ 0 đến hơn 50000 với con số khoảng 150 quốc gia\n",
    "- Các quốc gia mang chỉ số \"Tot Cases/1M pop\" cao hơn 100000 khá là ít\n",
    "- Gần 50 quốc gia có chỉ số \"Tot Cases/1M pop\" từ 50000 - 100000"
   ]
  },
  {
   "cell_type": "markdown",
   "metadata": {},
   "source": [
    "**\"Deaths/1M pop\"**\n",
    "\n",
    "Tương tự với việc sử dụng biểu đồ histogram cho \"Tot Cases/1M pop\" ta cũng dùng cho \"Deaths/1M pop\" để xem xét sự phân phối của chỉ số này"
   ]
  },
  {
   "cell_type": "code",
   "execution_count": null,
   "metadata": {},
   "outputs": [],
   "source": [
    "plt.hist(df['Deaths/1M pop'], bins = 3, range = [0,3000])\n",
    "plt.xlabel('Deaths/1M pop')\n",
    "plt.ylabel('Number of country')\n",
    "plt.title('Deaths/1M pop')\n",
    "plt.show()"
   ]
  },
  {
   "cell_type": "markdown",
   "metadata": {},
   "source": [
    "Nhận xét về \"Deaths/1M pop\":\n",
    "- Đa phần các quốc gia đều có chỉ số \"Deaths/1M pop\" từ 0 - 1000 với có số khoảng 175 quốc gia\n",
    "- Một số ít quốc gia có chỉ số \"Deaths/1M pop\" từ 1000 - 2000 với con số khoảng 25 quốc gia\n",
    "- Và một số rất ít quốc gia có chỉ số \"Deaths/1M pop\" từ 2000 - 3000\n",
    "- Có vẻ như \"Deaths/1M pop\" có mối quan hệ gì đó với chỉ số \"Tot Cases/1M pop\" bởi vì phân phối của cả 2 chỉ số này khá giống nhau"
   ]
  },
  {
   "cell_type": "markdown",
   "metadata": {},
   "source": [
    "**\"Tot Cases/1M pop\" vs \"Deaths/1M pop\"**\n",
    "- Sử dụng scatter chart để xem mối tương quan giữa \"Tot Cases/1M pop\" vs \"Deaths/1M pop"
   ]
  },
  {
   "cell_type": "code",
   "execution_count": null,
   "metadata": {},
   "outputs": [],
   "source": [
    "plt.scatter(df['Tot Cases/1M pop'], df['Deaths/1M pop'], marker= 'o')\n",
    "plt.xlabel('Tot Cases/1M pop')\n",
    "plt.ylabel('Deaths/1M pop')\n",
    "plt.title('Tot Cases/1M pop vs Deaths/1M pop')\n",
    "plt.show()"
   ]
  },
  {
   "cell_type": "markdown",
   "metadata": {},
   "source": [
    "Nhận xét \"Tot Cases/1M pop\" vs \"Deaths/1M pop\":\n",
    "\n",
    "- Ta có thể thấy \"Tot Cases/1M pop\" vs \"Deaths/1M pop\" 2 trường có mối quan hệ tương quan với nhau"
   ]
  },
  {
   "cell_type": "markdown",
   "metadata": {},
   "source": [
    "**TotalCases**\n",
    "\n",
    "Sử dụng Pie chart để xem tỉ lệ phần trăm của top 3 quốc gia có tổng số ca mắc COVID cao nhất so với các quốc gia khác"
   ]
  },
  {
   "cell_type": "code",
   "execution_count": null,
   "metadata": {},
   "outputs": [],
   "source": [
    "top3 = df.nlargest(3, 'TotalCases')\n",
    "\n",
    "label = top3['Country,Other']\n",
    "s2 = pd.Series(['Other'])\n",
    "label = label.append(s2)\n",
    "\n",
    "value = top3['TotalCases']\n",
    "s2 = pd.Series([df[df['TotalCases'] < top3['TotalCases'].min()].sum()[1]])\n",
    "value = value.append(s2)"
   ]
  },
  {
   "cell_type": "code",
   "execution_count": null,
   "metadata": {},
   "outputs": [],
   "source": [
    "plt.pie(value, labels = label, colors = 'b', autopct='%1.1f%%', startangle=90)\n",
    "plt.title('TotalCases')\n",
    "plt.show()"
   ]
  },
  {
   "cell_type": "markdown",
   "metadata": {},
   "source": [
    "Nhận xét về \"TotalCases\":\n",
    "- Có thể thấy USA là quốc gia có tổng số ca mắc COVID cao nhất thế giới, đồng thời nó cũng chiếm tỉ lệ tới 22,6% trên tổng số ca nhiễm trên toàn thế giới gấp 2 lần quốc gia đứng thứ 2 là India với 11%\n",
    "- Tổng số ca mắc COVID của 2 quốc gia India và Brazil chiếm tỉ trọng không quá nhiều"
   ]
  },
  {
   "cell_type": "markdown",
   "metadata": {},
   "source": [
    "**TotalDeaths**\n",
    "\n",
    "Dùng histogram để xem xét sự phân phối của tổng số người chết của các quốc gia"
   ]
  },
  {
   "cell_type": "code",
   "execution_count": null,
   "metadata": {},
   "outputs": [],
   "source": [
    "plt.hist(df['TotalDeaths'], bins = [0,200000,600000])\n",
    "plt.xlabel('TotalDeaths')\n",
    "plt.ylabel('Number of country')\n",
    "plt.title('TotalDeaths')\n",
    "plt.show()"
   ]
  },
  {
   "cell_type": "markdown",
   "metadata": {},
   "source": [
    "Nhận xét \"TotalDeaths\":\n",
    "- Có thể thầy hầu hết các quốc gia đều có tổng số người chết dưới 200000\n",
    "- Một số ít quốc gia có tổng số người chết đặc biệt cao từ 200000 - 600000"
   ]
  },
  {
   "cell_type": "markdown",
   "metadata": {},
   "source": [
    "**\"TotalCases\" vs \"TotalDeaths\"**\n",
    "Dùng scatter chart để xem xét mối quan hệ giữa tổng số ca mắc bệnh và tổng số người chết"
   ]
  },
  {
   "cell_type": "code",
   "execution_count": null,
   "metadata": {},
   "outputs": [],
   "source": [
    "plt.scatter(df['TotalCases'], df['TotalDeaths'], marker= 'o')\n",
    "plt.xlabel('TotalCases')\n",
    "plt.ylabel('TotalDeaths')\n",
    "plt.title(r'TotalCases vs TotalDeaths')\n",
    "plt.show()"
   ]
  },
  {
   "cell_type": "markdown",
   "metadata": {},
   "source": [
    "Nhận xét \"TotalCases\" vs \"TotalDeaths\":\n",
    "- Hai chỉ só có mối quan hệ tương quan với nhau\n",
    "- Hầu hết quốc gia đều đang ở tình trạng tổng số ca tử vong và ca mắc bệnh ở mức thấp\n",
    "- Đặc biệt chỉ có một số rất ít quốc gia có tổng số ca tử vong và ca mắc bệnh có chỉ số cao ngất ngưỡng"
   ]
  },
  {
   "cell_type": "markdown",
   "metadata": {},
   "source": [
    "## TotalTests, TotalDeaths, TotalRecovered"
   ]
  },
  {
   "cell_type": "code",
   "execution_count": null,
   "metadata": {},
   "outputs": [],
   "source": [
    "plt.figure(figsize=(16,4))\n",
    "sns.scatterplot(data = df, x = 'TotalDeaths', y= 'TotalRecovered')#, style = 'TotalTests')\n",
    "# plt.legend(bbox_to_anchor=(1.05, 1), loc='upper left', ncol=2)"
   ]
  },
  {
   "cell_type": "code",
   "execution_count": null,
   "metadata": {},
   "outputs": [],
   "source": [
    "plt.figure(figsize=(16,4))\n",
    "plt.axis([0, 1000, 0, 50000])\n",
    "sns.scatterplot(data = df, x = 'TotalDeaths', y= 'TotalRecovered')"
   ]
  },
  {
   "cell_type": "markdown",
   "metadata": {},
   "source": [
    "We see that TotalRecovered has the regression relationship with TotalDeaths\n",
    "\n",
    "The idea to visualize TotalTest to this chart is binning values of TotalTest, then visualize it as style."
   ]
  },
  {
   "cell_type": "code",
   "execution_count": null,
   "metadata": {},
   "outputs": [],
   "source": [
    "df['TotalTests'].value_counts()"
   ]
  }
 ],
 "metadata": {
  "kernelspec": {
   "display_name": "Python 3",
   "language": "python",
   "name": "python3"
  },
  "language_info": {
   "codemirror_mode": {
    "name": "ipython",
    "version": 3
   },
   "file_extension": ".py",
   "mimetype": "text/x-python",
   "name": "python",
   "nbconvert_exporter": "python",
   "pygments_lexer": "ipython3",
   "version": "3.8.5"
  }
 },
 "nbformat": 4,
 "nbformat_minor": 4
}
